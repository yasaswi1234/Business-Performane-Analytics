{
  "nbformat": 4,
  "nbformat_minor": 0,
  "metadata": {
    "colab": {
      "provenance": []
    },
    "kernelspec": {
      "name": "python3",
      "display_name": "Python 3"
    },
    "language_info": {
      "name": "python"
    }
  },
  "cells": [
    {
      "cell_type": "code",
      "execution_count": 3,
      "metadata": {
        "id": "q7JiTE_d-puM"
      },
      "outputs": [],
      "source": [
        "from pyspark.sql.functions import col,lit,when\n",
        "from pyspark.ml.feature import StringIndexer\n",
        "from pyspark.ml.feature import VectorAssembler\n",
        "from pyspark.sql import SparkSession\n",
        "from pyspark.ml.regression import LinearRegression\n",
        "from pyspark.ml.regression import RandomForestRegressor\n",
        "spark=SparkSession.builder.appName('MySession').getOrCreate()"
      ]
    },
    {
      "cell_type": "code",
      "source": [
        "pip install pyspark"
      ],
      "metadata": {
        "colab": {
          "base_uri": "https://localhost:8080/"
        },
        "id": "I9td2zDBDPHc",
        "outputId": "dec7ce58-a743-4d3c-bf39-3674fe2cd295"
      },
      "execution_count": 2,
      "outputs": [
        {
          "output_type": "stream",
          "name": "stdout",
          "text": [
            "Collecting pyspark\n",
            "  Downloading pyspark-3.5.0.tar.gz (316.9 MB)\n",
            "\u001b[2K     \u001b[90m━━━━━━━━━━━━━━━━━━━━━━━━━━━━━━━━━━━━━━━━\u001b[0m \u001b[32m316.9/316.9 MB\u001b[0m \u001b[31m4.1 MB/s\u001b[0m eta \u001b[36m0:00:00\u001b[0m\n",
            "\u001b[?25h  Preparing metadata (setup.py) ... \u001b[?25l\u001b[?25hdone\n",
            "Requirement already satisfied: py4j==0.10.9.7 in /usr/local/lib/python3.10/dist-packages (from pyspark) (0.10.9.7)\n",
            "Building wheels for collected packages: pyspark\n",
            "  Building wheel for pyspark (setup.py) ... \u001b[?25l\u001b[?25hdone\n",
            "  Created wheel for pyspark: filename=pyspark-3.5.0-py2.py3-none-any.whl size=317425344 sha256=db038d62ee0a41853033e911636d7b4bb2a75294664e476114c2ec487f737097\n",
            "  Stored in directory: /root/.cache/pip/wheels/41/4e/10/c2cf2467f71c678cfc8a6b9ac9241e5e44a01940da8fbb17fc\n",
            "Successfully built pyspark\n",
            "Installing collected packages: pyspark\n",
            "Successfully installed pyspark-3.5.0\n"
          ]
        }
      ]
    },
    {
      "cell_type": "code",
      "source": [
        "df=spark.read.csv(\"/content/Sample - Superstore.csv\",header=True,inferSchema=True)"
      ],
      "metadata": {
        "id": "EZsURUeyDblW"
      },
      "execution_count": null,
      "outputs": []
    },
    {
      "cell_type": "code",
      "source": [
        "df.columns\n",
        "df=df.na.drop()\n",
        "df.columns"
      ],
      "metadata": {
        "colab": {
          "base_uri": "https://localhost:8080/"
        },
        "id": "IPii1j4-Mq4g",
        "outputId": "e68bdac0-51ec-43e3-8a85-19d2ebf2e1e9"
      },
      "execution_count": null,
      "outputs": [
        {
          "output_type": "execute_result",
          "data": {
            "text/plain": [
              "['rowid',\n",
              " 'orderid',\n",
              " 'orderdata',\n",
              " 'shipdate',\n",
              " 'shipmode',\n",
              " 'customerid',\n",
              " 'customername',\n",
              " 'segment',\n",
              " 'country',\n",
              " 'city',\n",
              " 'state',\n",
              " 'postalcode',\n",
              " 'region',\n",
              " 'productid',\n",
              " 'category',\n",
              " 'subcategory',\n",
              " 'productname',\n",
              " 'sales',\n",
              " 'quantity',\n",
              " 'discount',\n",
              " 'profit']"
            ]
          },
          "metadata": {},
          "execution_count": 8
        }
      ]
    },
    {
      "cell_type": "code",
      "source": [
        "selection_df = df.select('region', 'subcategory', 'category', 'quantity', 'sales')\n",
        "selection_df.printSchema()"
      ],
      "metadata": {
        "colab": {
          "base_uri": "https://localhost:8080/"
        },
        "id": "xc2oSB1_MxxW",
        "outputId": "e59f32ca-50d1-45d8-c4c2-3be1af09bbc9"
      },
      "execution_count": null,
      "outputs": [
        {
          "output_type": "stream",
          "name": "stdout",
          "text": [
            "root\n",
            " |-- region: string (nullable = true)\n",
            " |-- subcategory: string (nullable = true)\n",
            " |-- category: string (nullable = true)\n",
            " |-- quantity: string (nullable = true)\n",
            " |-- sales: string (nullable = true)\n",
            "\n"
          ]
        }
      ]
    },
    {
      "cell_type": "code",
      "source": [
        "selection_df = selection_df.withColumn('sales', col('sales').cast('double'))\n",
        "selection_df = selection_df.withColumn('quantity', col('quantity').cast('double'))"
      ],
      "metadata": {
        "id": "4QcZZ0THaFOS"
      },
      "execution_count": null,
      "outputs": []
    },
    {
      "cell_type": "code",
      "source": [
        "selection_df.show()"
      ],
      "metadata": {
        "colab": {
          "base_uri": "https://localhost:8080/"
        },
        "id": "7Wx7qtSAa2Aa",
        "outputId": "546a998c-cc8e-484f-8ca0-55da0f05873e"
      },
      "execution_count": null,
      "outputs": [
        {
          "output_type": "stream",
          "name": "stdout",
          "text": [
            "+-------+-----------+---------------+--------+--------+\n",
            "| region|subcategory|       category|quantity|   sales|\n",
            "+-------+-----------+---------------+--------+--------+\n",
            "|  South|  Bookcases|      Furniture|     2.0|  261.96|\n",
            "|  South|     Chairs|      Furniture|     3.0|  731.94|\n",
            "|   West|     Labels|Office Supplies|     2.0|   14.62|\n",
            "|  South|     Tables|      Furniture|     5.0|957.5775|\n",
            "|  South|    Storage|Office Supplies|     2.0|  22.368|\n",
            "|   West|Furnishings|      Furniture|     7.0|   48.86|\n",
            "|   West|        Art|Office Supplies|     4.0|    7.28|\n",
            "|   West|     Phones|     Technology|     6.0| 907.152|\n",
            "|   West|    Binders|Office Supplies|     3.0|  18.504|\n",
            "|   West| Appliances|Office Supplies|     5.0|   114.9|\n",
            "|   West|     Tables|      Furniture|     9.0|1706.184|\n",
            "|   West|     Phones|     Technology|     4.0| 911.424|\n",
            "|  South|      Paper|Office Supplies|     3.0|  15.552|\n",
            "|   West|    Binders|Office Supplies|     3.0| 407.976|\n",
            "|Central| Appliances|Office Supplies|     5.0|   68.81|\n",
            "|Central|    Binders|Office Supplies|     3.0|   2.544|\n",
            "|Central|    Storage|Office Supplies|     6.0|  665.88|\n",
            "|   West|    Storage|Office Supplies|     2.0|    55.5|\n",
            "|   West|        Art|Office Supplies|     2.0|    8.56|\n",
            "|   West|     Phones|     Technology|     3.0|  213.48|\n",
            "+-------+-----------+---------------+--------+--------+\n",
            "only showing top 20 rows\n",
            "\n"
          ]
        }
      ]
    },
    {
      "cell_type": "code",
      "source": [
        "selection_df = selection_df.na.drop()\n",
        "\n",
        "indexer = StringIndexer (inputCols=[\"region\", \"subcategory\"], outputCols=[\"region_indexed\", \"sub-Category_indexed\"])\n",
        "df_i = indexer.fit(selection_df).transform(selection_df)\n",
        "\n",
        "df_i.show()\n"
      ],
      "metadata": {
        "colab": {
          "base_uri": "https://localhost:8080/"
        },
        "id": "lFyCY1J9a6L6",
        "outputId": "64bda5a6-5b22-4ddb-d117-e4e5c422ac2f"
      },
      "execution_count": null,
      "outputs": [
        {
          "output_type": "stream",
          "name": "stdout",
          "text": [
            "+-------+-----------+---------------+--------+--------+--------------+--------------------+\n",
            "| region|subcategory|       category|quantity|   sales|region_indexed|sub-Category_indexed|\n",
            "+-------+-----------+---------------+--------+--------+--------------+--------------------+\n",
            "|  South|  Bookcases|      Furniture|     2.0|  261.96|           3.0|                12.0|\n",
            "|  South|     Chairs|      Furniture|     3.0|  731.94|           3.0|                 7.0|\n",
            "|   West|     Labels|Office Supplies|     2.0|   14.62|           0.0|                 9.0|\n",
            "|  South|     Tables|      Furniture|     5.0|957.5775|           3.0|                10.0|\n",
            "|  South|    Storage|Office Supplies|     2.0|  22.368|           3.0|                 4.0|\n",
            "|   West|Furnishings|      Furniture|     7.0|   48.86|           0.0|                 2.0|\n",
            "|   West|        Art|Office Supplies|     4.0|    7.28|           0.0|                 5.0|\n",
            "|   West|     Phones|     Technology|     6.0| 907.152|           0.0|                 3.0|\n",
            "|   West|    Binders|Office Supplies|     3.0|  18.504|           0.0|                 0.0|\n",
            "|   West| Appliances|Office Supplies|     5.0|   114.9|           0.0|                 8.0|\n",
            "|   West|     Tables|      Furniture|     9.0|1706.184|           0.0|                10.0|\n",
            "|   West|     Phones|     Technology|     4.0| 911.424|           0.0|                 3.0|\n",
            "|  South|      Paper|Office Supplies|     3.0|  15.552|           3.0|                 1.0|\n",
            "|   West|    Binders|Office Supplies|     3.0| 407.976|           0.0|                 0.0|\n",
            "|Central| Appliances|Office Supplies|     5.0|   68.81|           2.0|                 8.0|\n",
            "|Central|    Binders|Office Supplies|     3.0|   2.544|           2.0|                 0.0|\n",
            "|Central|    Storage|Office Supplies|     6.0|  665.88|           2.0|                 4.0|\n",
            "|   West|    Storage|Office Supplies|     2.0|    55.5|           0.0|                 4.0|\n",
            "|   West|        Art|Office Supplies|     2.0|    8.56|           0.0|                 5.0|\n",
            "|   West|     Phones|     Technology|     3.0|  213.48|           0.0|                 3.0|\n",
            "+-------+-----------+---------------+--------+--------+--------------+--------------------+\n",
            "only showing top 20 rows\n",
            "\n"
          ]
        }
      ]
    },
    {
      "cell_type": "code",
      "source": [
        "fa= VectorAssembler (inputCols=['region_indexed', 'sub-Category_indexed', 'quantity', 'sales' ], outputCol=\"Independent Features\")\n",
        "output = fa.transform(df_i)"
      ],
      "metadata": {
        "id": "0a1a3TVSbaUm"
      },
      "execution_count": null,
      "outputs": []
    },
    {
      "cell_type": "code",
      "source": [
        "final_data = output.select(\"Independent Features\", \"sales\")\n",
        "final_data.na.drop()\n",
        "final_data.show()"
      ],
      "metadata": {
        "colab": {
          "base_uri": "https://localhost:8080/"
        },
        "id": "uUnY1ElMb2m0",
        "outputId": "647cba27-2f35-49e2-e49d-ccaa7148538f"
      },
      "execution_count": null,
      "outputs": [
        {
          "output_type": "stream",
          "name": "stdout",
          "text": [
            "+--------------------+--------+\n",
            "|Independent Features|   sales|\n",
            "+--------------------+--------+\n",
            "|[3.0,12.0,2.0,261...|  261.96|\n",
            "|[3.0,7.0,3.0,731.94]|  731.94|\n",
            "| [0.0,9.0,2.0,14.62]|   14.62|\n",
            "|[3.0,10.0,5.0,957...|957.5775|\n",
            "|[3.0,4.0,2.0,22.368]|  22.368|\n",
            "| [0.0,2.0,7.0,48.86]|   48.86|\n",
            "|  [0.0,5.0,4.0,7.28]|    7.28|\n",
            "|[0.0,3.0,6.0,907....| 907.152|\n",
            "|[0.0,0.0,3.0,18.504]|  18.504|\n",
            "| [0.0,8.0,5.0,114.9]|   114.9|\n",
            "|[0.0,10.0,9.0,170...|1706.184|\n",
            "|[0.0,3.0,4.0,911....| 911.424|\n",
            "|[3.0,1.0,3.0,15.552]|  15.552|\n",
            "|[0.0,0.0,3.0,407....| 407.976|\n",
            "| [2.0,8.0,5.0,68.81]|   68.81|\n",
            "| [2.0,0.0,3.0,2.544]|   2.544|\n",
            "|[2.0,4.0,6.0,665.88]|  665.88|\n",
            "|  [0.0,4.0,2.0,55.5]|    55.5|\n",
            "|  [0.0,5.0,2.0,8.56]|    8.56|\n",
            "|[0.0,3.0,3.0,213.48]|  213.48|\n",
            "+--------------------+--------+\n",
            "only showing top 20 rows\n",
            "\n"
          ]
        }
      ]
    },
    {
      "cell_type": "code",
      "source": [
        "train_data, test_data = final_data.randomSplit([0.80, 0.20])\n",
        "regressor=LinearRegression (featuresCol='Independent Features', labelCol='sales')\n",
        "regressor = regressor.fit(train_data)"
      ],
      "metadata": {
        "id": "m_l3T96hcANg"
      },
      "execution_count": null,
      "outputs": []
    },
    {
      "cell_type": "code",
      "source": [
        "predict_results = regressor.evaluate(test_data)\n",
        "\n",
        "predict_results. predictions.show()"
      ],
      "metadata": {
        "colab": {
          "base_uri": "https://localhost:8080/"
        },
        "id": "hS_6g-XThEdP",
        "outputId": "2be62694-58b7-40ef-9908-1ff1d598b7be"
      },
      "execution_count": null,
      "outputs": [
        {
          "output_type": "stream",
          "name": "stdout",
          "text": [
            "+--------------------+-------+------------------+\n",
            "|Independent Features|  sales|        prediction|\n",
            "+--------------------+-------+------------------+\n",
            "| [0.0,0.0,1.0,6.384]|  6.384| 6.383999999999774|\n",
            "|  [0.0,0.0,1.0,6.88]|   6.88| 6.879999999999773|\n",
            "| [0.0,0.0,1.0,9.584]|  9.584| 9.583999999999772|\n",
            "|[0.0,0.0,1.0,11.744]| 11.744|11.743999999999772|\n",
            "|[0.0,0.0,1.0,13.208]| 13.208|13.207999999999775|\n",
            "| [0.0,0.0,2.0,1.188]|  1.188|1.1879999999997906|\n",
            "| [0.0,0.0,2.0,4.448]|  4.448| 4.447999999999791|\n",
            "| [0.0,0.0,2.0,6.096]|  6.096| 6.095999999999791|\n",
            "| [0.0,0.0,2.0,7.184]|  7.184| 7.183999999999791|\n",
            "| [0.0,0.0,2.0,8.096]|  8.096| 8.095999999999792|\n",
            "| [0.0,0.0,2.0,8.608]|  8.608| 8.607999999999793|\n",
            "| [0.0,0.0,2.0,9.728]|  9.728| 9.727999999999792|\n",
            "|[0.0,0.0,2.0,12.544]| 12.544|12.543999999999794|\n",
            "|[0.0,0.0,2.0,13.904]| 13.904|13.903999999999794|\n",
            "|[0.0,0.0,2.0,17.456]| 17.456|17.455999999999793|\n",
            "|[0.0,0.0,2.0,49.568]| 49.568|  49.5679999999998|\n",
            "|[0.0,0.0,2.0,55.264]| 55.264|55.263999999999804|\n",
            "|[0.0,0.0,2.0,62.048]| 62.048|  62.0479999999998|\n",
            "|[0.0,0.0,2.0,271....|271.984|271.98399999999987|\n",
            "| [0.0,0.0,3.0,3.366]|  3.366|3.3659999999998096|\n",
            "+--------------------+-------+------------------+\n",
            "only showing top 20 rows\n",
            "\n"
          ]
        }
      ]
    },
    {
      "cell_type": "code",
      "source": [
        "print(\"MAE is \", predict_results.meanAbsoluteError)\n",
        "print(\"MSE is \", predict_results.meanSquaredError)\n",
        "print(\"RMSE is \",predict_results.rootMeanSquaredError)\n",
        "print(\"R2 is \",predict_results.r2)\n",
        "print(\"Adj R2 is \", predict_results.r2adj)"
      ],
      "metadata": {
        "colab": {
          "base_uri": "https://localhost:8080/"
        },
        "id": "ERxPiKmUhJJ9",
        "outputId": "b27e4298-fed6-497a-a71f-363eddc9737d"
      },
      "execution_count": null,
      "outputs": [
        {
          "output_type": "stream",
          "name": "stdout",
          "text": [
            "MAE is  1.0444411821406845e-13\n",
            "MSE is  2.3238880630634415e-26\n",
            "RMSE is  1.5244304061069634e-13\n",
            "R2 is  1.0\n",
            "Adj R2 is  1.0\n"
          ]
        }
      ]
    },
    {
      "cell_type": "code",
      "source": [],
      "metadata": {
        "id": "Q_mEw3Wzh84X"
      },
      "execution_count": null,
      "outputs": []
    }
  ]
}